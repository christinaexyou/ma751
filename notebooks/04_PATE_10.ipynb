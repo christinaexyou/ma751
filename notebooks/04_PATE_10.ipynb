{
 "cells": [
  {
   "cell_type": "code",
   "execution_count": 1,
   "id": "b8dd25c3",
   "metadata": {},
   "outputs": [],
   "source": [
    "#!pip install syft==0.2.9"
   ]
  },
  {
   "cell_type": "code",
   "execution_count": 1,
   "id": "0dfdd44c",
   "metadata": {},
   "outputs": [],
   "source": [
    "# import required libraries and packages\n",
    "\n",
    "import os\n",
    "import sys\n",
    "\n",
    "import random\n",
    "\n",
    "import numpy as np\n",
    "\n",
    "import torch  \n",
    "import torchvision\n",
    "import torchvision.transforms as transforms\n",
    "from torchvision.datasets import CIFAR10\n",
    "\n",
    "from opacus.validators import ModuleValidator\n",
    "from opacus.utils.batch_memory_manager import BatchMemoryManager\n",
    "from opacus import PrivacyEngine\n",
    "\n",
    "from torch import optim\n",
    "import torch.nn as nn\n",
    "from torch.utils.data import Subset\n",
    "import torch.nn.functional as F\n",
    "\n",
    "from tqdm import tqdm\n",
    "\n",
    "import warnings\n",
    "warnings.simplefilter(\"ignore\")"
   ]
  },
  {
   "cell_type": "code",
   "execution_count": 2,
   "id": "d94df454",
   "metadata": {},
   "outputs": [
    {
     "name": "stdout",
     "output_type": "stream",
     "text": [
      "3.10.5 (main, Jun 30 2022, 11:24:25) [GCC 8.3.0]\n",
      "1.13.1+cu116\n"
     ]
    }
   ],
   "source": [
    "print(sys.version)\n",
    "print(torch.__version__)"
   ]
  },
  {
   "cell_type": "code",
   "execution_count": 3,
   "id": "c8194889",
   "metadata": {},
   "outputs": [
    {
     "name": "stdout",
     "output_type": "stream",
     "text": [
      "/usr4/ugrad/cjxu/Documents/MA751\n"
     ]
    }
   ],
   "source": [
    "ROOT_DIR = os.path.abspath('../')\n",
    "if not os.path.exists(ROOT_DIR):\n",
    "    os.makedirs(ROOT_DIR)\n",
    "os.chdir(ROOT_DIR)\n",
    "\n",
    "print(ROOT_DIR)\n",
    "\n",
    "DATA_DIR = os.path.join(ROOT_DIR, 'data')\n",
    "\n",
    "# Directory to save logs and trained model\n",
    "MODEL_DIR = os.path.join(ROOT_DIR, 'models/PATE/')"
   ]
  },
  {
   "cell_type": "code",
   "execution_count": 5,
   "id": "29858e8f",
   "metadata": {},
   "outputs": [],
   "source": [
    "# normalize data\n",
    "\n",
    "CIFAR10_MEAN = (0.4914, 0.4822, 0.4465)\n",
    "CIFAR10_STD_DEV = (0.2023, 0.1994, 0.2010)\n",
    "\n",
    "transform = transforms.Compose([\n",
    "    transforms.ToTensor(),\n",
    "    transforms.Normalize(CIFAR10_MEAN, CIFAR10_STD_DEV),\n",
    "])"
   ]
  },
  {
   "cell_type": "code",
   "execution_count": 6,
   "id": "ea642ea7",
   "metadata": {},
   "outputs": [
    {
     "name": "stdout",
     "output_type": "stream",
     "text": [
      "Files already downloaded and verified\n",
      "Files already downloaded and verified\n"
     ]
    }
   ],
   "source": [
    "# download data \n",
    "train_dataset = CIFAR10(\n",
    "    root=os.path.join(DATA_DIR, 'trainset'), train=True, download=True, transform=transform)\n",
    "\n",
    "test_dataset = CIFAR10(\n",
    "    root=os.path.join(DATA_DIR, 'testset'), train=False, download=True, transform=transform)"
   ]
  },
  {
   "cell_type": "code",
   "execution_count": 7,
   "id": "04c8dfc6",
   "metadata": {},
   "outputs": [
    {
     "name": "stdout",
     "output_type": "stream",
     "text": [
      "num training data: 50000\n",
      "num test data: 10000\n"
     ]
    }
   ],
   "source": [
    "print('num training data: {0}'.format(len(train_dataset)))\n",
    "print('num test data: {0}'.format(len(test_dataset)))"
   ]
  },
  {
   "cell_type": "code",
   "execution_count": 8,
   "id": "bb41f56d",
   "metadata": {},
   "outputs": [],
   "source": [
    "def init_teachers(train_dataset, batch_size=64, num_teachers=10):\n",
    "    \"\"\"\n",
    "    Takes as input the training dataset and divides it into n disjoint subsets\n",
    "    which will serve as training data for our teacher models. Outputs a dataloader \n",
    "    for each disjoint subset\n",
    "    \"\"\"\n",
    "    teachers_loader = []\n",
    "    \n",
    "    data_per_teacher = len(train_dataset)//num_teachers\n",
    "    \n",
    "    # create n disjoint subsets\n",
    "    for i in range(num_teachers):\n",
    "         # check if i is equal to the last teacher\n",
    "        if i == num_teachers - 1:\n",
    "            idx=list(range(i * data_per_teacher, len(train_dataset)))\n",
    "        else:\n",
    "            idx=list(range(i*data_per_teacher, (i + 1)*data_per_teacher))\n",
    "        \n",
    "        teacher_loader = torch.utils.data.DataLoader(train_dataset, batch_size=batch_size, shuffle=True)\n",
    "        \n",
    "        teachers_loader.append(teacher_loader)\n",
    "        \n",
    "    return teachers_loader"
   ]
  },
  {
   "cell_type": "code",
   "execution_count": 9,
   "id": "904aa78d",
   "metadata": {},
   "outputs": [
    {
     "data": {
      "text/plain": [
       "10"
      ]
     },
     "execution_count": 9,
     "metadata": {},
     "output_type": "execute_result"
    }
   ],
   "source": [
    "teacher_loaders = init_teachers(train_dataset, num_teachers=10)\n",
    "# sanity check\n",
    "len(teacher_loaders)"
   ]
  },
  {
   "cell_type": "code",
   "execution_count": 10,
   "id": "84c4db5c",
   "metadata": {},
   "outputs": [],
   "source": [
    "def init_student(dataset, batch_size = 64, split=0.7):\n",
    "    \"\"\"\n",
    "    Takes as input the test dataset and splits it into public and private subsets. \n",
    "    \n",
    "    \"\"\"\n",
    "    split_idx = int(len(dataset) * split)\n",
    "    student_train = Subset(dataset, list(range(0, split_idx)))\n",
    "    student_test = Subset(dataset, list(range(split_idx, len(dataset))))\n",
    "    \n",
    "    student_train_loader = torch.utils.data.DataLoader(student_train, batch_size=batch_size)\n",
    "    student_test_loader =  torch.utils.data.DataLoader(student_test, batch_size=batch_size)\n",
    "    \n",
    "    return student_train, student_test, student_train_loader, student_test_loader"
   ]
  },
  {
   "cell_type": "code",
   "execution_count": 11,
   "id": "22973436",
   "metadata": {
    "scrolled": true
   },
   "outputs": [
    {
     "name": "stdout",
     "output_type": "stream",
     "text": [
      "110\n",
      "47\n"
     ]
    }
   ],
   "source": [
    "student_train, student_test, student_train_loader, student_test_loader = init_student(test_dataset)\n",
    "print(len(student_train_loader))\n",
    "print(len(student_test_loader))"
   ]
  },
  {
   "cell_type": "code",
   "execution_count": 12,
   "id": "0e0a10bb",
   "metadata": {},
   "outputs": [],
   "source": [
    "def predict(teacher_models, dataloader):\n",
    "    pred_labels = []\n",
    "    for model in teacher_models:\n",
    "        model.to(device)\n",
    "        pred_label = []\n",
    "        for images, labels in dataloader:\n",
    "            images, labels = images.to(device), labels.to(device)\n",
    "            with torch.no_grad():\n",
    "                output = model(images)\n",
    "                ps = torch.exp(output)\n",
    "            top_p, top_class = ps.topk(1, dim=1)        \n",
    "            pred_label.append(top_class.squeeze().tolist())\n",
    "        pred_label = sum(pred_label, [])\n",
    "        pred_labels.append(pred_label)\n",
    "    return pred_labels"
   ]
  },
  {
   "cell_type": "code",
   "execution_count": 13,
   "id": "f868850f",
   "metadata": {},
   "outputs": [],
   "source": [
    "class Net(nn.Module):\n",
    "    def __init__(self):\n",
    "        super().__init__()\n",
    "        \n",
    "        self.network = nn.Sequential(\n",
    "            nn.Conv2d(3, 32, kernel_size=3, padding=1),\n",
    "            #nn.BatchNorm2d(32),\n",
    "            nn.Conv2d(32, 32, kernel_size=3, padding=1),\n",
    "            nn.ReLU(),\n",
    "            #nn.BatchNorm2d(32),\n",
    "            nn.MaxPool2d(2, 2), #32 x 16 x 16\n",
    "            #nn.Dropout(0.2),\n",
    "            \n",
    "            nn.Conv2d(32, 64, kernel_size=3, padding=1),\n",
    "            #nn.BatchNorm2d(64),\n",
    "            nn.Conv2d(64, 64, kernel_size=3, padding=1),\n",
    "            nn.ReLU(),\n",
    "            #nn.BatchNorm2d(64),\n",
    "            nn.MaxPool2d(2, 2), # 64 x 8 x 8\n",
    "            #nn.Dropout(0.3),\n",
    "            \n",
    "            nn.Conv2d(64, 128, kernel_size=3, padding=1),\n",
    "            #nn.BatchNorm2d(128),\n",
    "            nn.Conv2d(128, 128, kernel_size=3, padding=1),\n",
    "            nn.ReLU(),\n",
    "            #nn.BatchNorm2d(128),\n",
    "            nn.MaxPool2d(2, 2), # 128 x 4 x 4\n",
    "            #nn.Dropout(0.4), \n",
    "    \n",
    "\n",
    "            nn.Flatten(),\n",
    "            nn.Linear(128*4*4, 128),\n",
    "            nn.ReLU(),\n",
    "            #nn.Dropout(0.5),\n",
    "            nn.Linear(128, 10))\n",
    "            \n",
    "    def forward(self, x):\n",
    "        x = F.log_softmax(x, dim=1)\n",
    "        return self.network(x)\n",
    "\n",
    "model = Net()"
   ]
  },
  {
   "cell_type": "code",
   "execution_count": 14,
   "id": "bbd8d9a1",
   "metadata": {},
   "outputs": [],
   "source": [
    "device = torch.device(\"cuda:0\" if torch.cuda.is_available() else \"cpu\")"
   ]
  },
  {
   "cell_type": "code",
   "execution_count": 15,
   "id": "4fd92ee0",
   "metadata": {},
   "outputs": [],
   "source": [
    "def train(model, criterion, optimizer, train_loader, epochs=10): \n",
    "    model.to(device)\n",
    "    # train_losses, train_accs = [], []\n",
    "    os.chdir(MODEL_DIR) \n",
    "\n",
    "    for e in range(epochs):\n",
    "        running_loss = 0\n",
    "        acc = 0\n",
    "            \n",
    "        for images, labels in train_loader:    \n",
    "            images, labels = images.to(device), labels.to(device)\n",
    "                \n",
    "            optimizer.zero_grad()        \n",
    "                \n",
    "            output = model(images)\n",
    "            loss = criterion(output, labels)\n",
    "            loss.backward()\n",
    "            optimizer.step()        \n",
    "            running_loss += loss.item() \n",
    "                \n",
    "            ps = torch.exp(output)\n",
    "            top_p, top_class = ps.topk(1, dim=1)        \n",
    "            equals = top_class == labels.view(*top_class.shape)\n",
    "            acc += torch.mean(equals.type(torch.FloatTensor))\n",
    "    \n",
    "                \n",
    "        print('epoch: {}/{}'.format(e+1, epochs),\n",
    "              'training loss: {:.3f} '.format(running_loss / len(train_loader)),\n",
    "              'training acc: {:.3f} '.format(acc / len(train_loader)),\n",
    "                '')         \n",
    "\n",
    "    return model"
   ]
  },
  {
   "cell_type": "code",
   "execution_count": null,
   "id": "4b934951",
   "metadata": {},
   "outputs": [
    {
     "name": "stdout",
     "output_type": "stream",
     "text": [
      "epoch: 1/10 training loss: 1.730  training acc: 0.369  \n",
      "epoch: 2/10 training loss: 1.401  training acc: 0.502  \n",
      "epoch: 3/10 training loss: 1.196  training acc: 0.582  \n",
      "epoch: 4/10 training loss: 1.060  training acc: 0.631  \n",
      "epoch: 5/10 training loss: 0.970  training acc: 0.661  \n",
      "epoch: 6/10 training loss: 0.885  training acc: 0.689  \n",
      "epoch: 7/10 training loss: 0.814  training acc: 0.712  \n",
      "epoch: 8/10 training loss: 0.752  training acc: 0.734  \n",
      "epoch: 9/10 training loss: 0.688  training acc: 0.758  \n",
      "epoch: 10/10 training loss: 0.638  training acc: 0.772  \n",
      "epoch: 1/10 training loss: 1.744  training acc: 0.366  \n",
      "epoch: 2/10 training loss: 1.439  training acc: 0.489  \n",
      "epoch: 3/10 training loss: 1.252  training acc: 0.562  \n",
      "epoch: 4/10 training loss: 1.113  training acc: 0.611  \n",
      "epoch: 5/10 training loss: 1.011  training acc: 0.646  \n",
      "epoch: 6/10 training loss: 0.921  training acc: 0.677  \n",
      "epoch: 7/10 training loss: 0.841  training acc: 0.704  \n",
      "epoch: 8/10 training loss: 0.781  training acc: 0.723  \n",
      "epoch: 9/10 training loss: 0.713  training acc: 0.748  \n",
      "epoch: 10/10 training loss: 0.664  training acc: 0.765  \n",
      "epoch: 1/10 training loss: 1.738  training acc: 0.361  \n",
      "epoch: 2/10 training loss: 1.437  training acc: 0.487  \n",
      "epoch: 3/10 training loss: 1.259  training acc: 0.553  \n",
      "epoch: 4/10 training loss: 1.125  training acc: 0.605  \n",
      "epoch: 5/10 training loss: 1.017  training acc: 0.643  \n",
      "epoch: 6/10 training loss: 0.931  training acc: 0.671  \n",
      "epoch: 7/10 training loss: 0.858  training acc: 0.696  \n",
      "epoch: 8/10 training loss: 0.784  training acc: 0.723  \n",
      "epoch: 9/10 training loss: 0.725  training acc: 0.743  \n",
      "epoch: 10/10 training loss: 0.664  training acc: 0.762  \n",
      "epoch: 1/10 training loss: 1.746  training acc: 0.362  \n",
      "epoch: 2/10 training loss: 1.457  training acc: 0.478  \n",
      "epoch: 3/10 training loss: 1.303  training acc: 0.538  \n",
      "epoch: 4/10 training loss: 1.175  training acc: 0.586  \n",
      "epoch: 5/10 training loss: 1.074  training acc: 0.625  \n",
      "epoch: 6/10 training loss: 0.984  training acc: 0.652  \n",
      "epoch: 7/10 training loss: 0.905  training acc: 0.682  \n",
      "epoch: 8/10 training loss: 0.834  training acc: 0.705  \n",
      "epoch: 9/10 training loss: 0.777  training acc: 0.725  \n",
      "epoch: 10/10 training loss: 0.710  training acc: 0.749  \n",
      "epoch: 1/10 training loss: 1.735  training acc: 0.370  \n",
      "epoch: 2/10 training loss: 1.424  training acc: 0.495  \n",
      "epoch: 3/10 training loss: 1.241  training acc: 0.562  \n",
      "epoch: 4/10 training loss: 1.104  training acc: 0.615  \n",
      "epoch: 5/10 training loss: 0.998  training acc: 0.650  \n",
      "epoch: 6/10 training loss: 0.918  training acc: 0.679  \n",
      "epoch: 7/10 training loss: 0.852  training acc: 0.700  \n",
      "epoch: 8/10 training loss: 0.783  training acc: 0.721  \n",
      "epoch: 9/10 training loss: 0.722  training acc: 0.744  \n",
      "epoch: 10/10 training loss: 0.669  training acc: 0.760  \n",
      "epoch: 1/10 training loss: 1.755  training acc: 0.356  \n",
      "epoch: 2/10 training loss: 1.404  training acc: 0.498  \n",
      "epoch: 3/10 training loss: 1.214  training acc: 0.573  \n",
      "epoch: 4/10 training loss: 1.077  training acc: 0.622  \n",
      "epoch: 5/10 training loss: 0.978  training acc: 0.655  \n",
      "epoch: 6/10 training loss: 0.900  training acc: 0.682  \n",
      "epoch: 7/10 training loss: 0.832  training acc: 0.708  \n",
      "epoch: 8/10 training loss: 0.765  training acc: 0.729  \n",
      "epoch: 9/10 training loss: 0.701  training acc: 0.753  \n",
      "epoch: 10/10 training loss: 0.644  training acc: 0.773  \n"
     ]
    }
   ],
   "source": [
    "teacher_models = []\n",
    "\n",
    "for teacher in teacher_loaders:\n",
    "    model = Net()\n",
    "    criterion = nn.CrossEntropyLoss()\n",
    "    optimizer = optim.Adam(model.parameters(), lr=0.001)\n",
    "    teacher_model = train(model, criterion, optimizer, teacher)\n",
    "    teacher_models.append(teacher_model)"
   ]
  },
  {
   "cell_type": "code",
   "execution_count": 17,
   "id": "5b5151f4",
   "metadata": {},
   "outputs": [],
   "source": [
    "# preds = predict(teacher_models, student_train_loader)\n",
    "# preds = np.array([np.array(p) for p in preds]).transpose(1, 0)\n",
    "\n",
    "preds = np.loadtxt(os.path.join(MODEL_DIR, 'preds.txt'), dtype=int)"
   ]
  },
  {
   "cell_type": "code",
   "execution_count": 18,
   "id": "f6034519",
   "metadata": {},
   "outputs": [],
   "source": [
    "def add_gaussian_noise(preds, epsilon, delta):\n",
    "    noisy_labels = []\n",
    "    \n",
    "    for pred in preds:\n",
    "        label_counts = np.bincount(pred, minlength=preds.shape[1])\n",
    "        \n",
    "        c = np.sqrt(2*np.log(1.25/delta))\n",
    "        sigma = c / epsilon\n",
    "        \n",
    "        for i in range(len(label_counts)):\n",
    "            label_counts[i] += np.random.normal(0, sigma, 1)\n",
    "        \n",
    "        new_label = np.argmax(label_counts)\n",
    "        noisy_labels.append(new_label)\n",
    "    \n",
    "    return np.array(noisy_labels)"
   ]
  },
  {
   "cell_type": "code",
   "execution_count": 19,
   "id": "26d2b768",
   "metadata": {},
   "outputs": [
    {
     "data": {
      "text/plain": [
       "7000"
      ]
     },
     "execution_count": 19,
     "metadata": {},
     "output_type": "execute_result"
    }
   ],
   "source": [
    "EPSILON = 10\n",
    "DELTA = 1e-5\n",
    "noisy_preds = add_gaussian_noise(preds, epsilon=EPSILON, delta=DELTA)\n",
    "len(noisy_preds)"
   ]
  },
  {
   "cell_type": "code",
   "execution_count": null,
   "id": "422d6094",
   "metadata": {},
   "outputs": [],
   "source": [
    "# from syft.frameworks.torch.differential_privacy import pate\n",
    "# data_dep_eps, data_ind_eps = pate.perform_analysis(teacher_preds=teacher_preds, indices=diff_priv_labels, noise_eps=0.2, delta=1e-5)\n",
    "# print(\"Data Independent Epsilon:\", data_ind_eps)\n",
    "# print(\"Data Dependent Epsilon:\", data_dep_eps)"
   ]
  },
  {
   "cell_type": "code",
   "execution_count": 21,
   "id": "41a9e010",
   "metadata": {},
   "outputs": [
    {
     "name": "stdout",
     "output_type": "stream",
     "text": [
      "epoch: 1/100 training loss: 2.055  training acc: 0.229 \n",
      "epoch: 2/100 training loss: 1.731  training acc: 0.364 \n",
      "epoch: 3/100 training loss: 1.546  training acc: 0.434 \n",
      "epoch: 4/100 training loss: 1.391  training acc: 0.485 \n",
      "epoch: 5/100 training loss: 1.263  training acc: 0.531 \n",
      "epoch: 6/100 training loss: 1.139  training acc: 0.585 \n",
      "epoch: 7/100 training loss: 1.043  training acc: 0.621 \n",
      "epoch: 8/100 training loss: 0.940  training acc: 0.658 \n",
      "epoch: 9/100 training loss: 0.862  training acc: 0.682 \n",
      "epoch: 10/100 training loss: 0.743  training acc: 0.730 \n",
      "epoch: 11/100 training loss: 0.682  training acc: 0.752 \n",
      "epoch: 12/100 training loss: 0.675  training acc: 0.760 \n",
      "epoch: 13/100 training loss: 0.587  training acc: 0.796 \n",
      "epoch: 14/100 training loss: 0.582  training acc: 0.792 \n",
      "epoch: 15/100 training loss: 0.507  training acc: 0.820 \n",
      "epoch: 16/100 training loss: 0.448  training acc: 0.841 \n",
      "epoch: 17/100 training loss: 0.401  training acc: 0.857 \n",
      "epoch: 18/100 training loss: 0.397  training acc: 0.861 \n",
      "epoch: 19/100 training loss: 0.353  training acc: 0.874 \n",
      "epoch: 20/100 training loss: 0.265  training acc: 0.907 \n",
      "epoch: 21/100 training loss: 0.279  training acc: 0.901 \n",
      "epoch: 22/100 training loss: 0.294  training acc: 0.899 \n",
      "epoch: 23/100 training loss: 0.255  training acc: 0.914 \n",
      "epoch: 24/100 training loss: 0.256  training acc: 0.919 \n",
      "epoch: 25/100 training loss: 0.219  training acc: 0.926 \n",
      "epoch: 26/100 training loss: 0.203  training acc: 0.930 \n",
      "epoch: 27/100 training loss: 0.151  training acc: 0.951 \n",
      "epoch: 28/100 training loss: 0.147  training acc: 0.948 \n",
      "epoch: 29/100 training loss: 0.134  training acc: 0.957 \n",
      "epoch: 30/100 training loss: 0.144  training acc: 0.951 \n",
      "epoch: 31/100 training loss: 0.157  training acc: 0.949 \n",
      "epoch: 32/100 training loss: 0.132  training acc: 0.958 \n",
      "epoch: 33/100 training loss: 0.124  training acc: 0.961 \n",
      "epoch: 34/100 training loss: 0.149  training acc: 0.954 \n",
      "epoch: 35/100 training loss: 0.107  training acc: 0.964 \n",
      "epoch: 36/100 training loss: 0.095  training acc: 0.971 \n",
      "epoch: 37/100 training loss: 0.118  training acc: 0.963 \n",
      "epoch: 38/100 training loss: 0.115  training acc: 0.965 \n",
      "epoch: 39/100 training loss: 0.081  training acc: 0.974 \n",
      "epoch: 40/100 training loss: 0.096  training acc: 0.972 \n",
      "epoch: 41/100 training loss: 0.111  training acc: 0.968 \n",
      "epoch: 42/100 training loss: 0.098  training acc: 0.973 \n",
      "epoch: 43/100 training loss: 0.144  training acc: 0.958 \n",
      "epoch: 44/100 training loss: 0.106  training acc: 0.965 \n",
      "epoch: 45/100 training loss: 0.093  training acc: 0.970 \n",
      "epoch: 46/100 training loss: 0.106  training acc: 0.969 \n",
      "epoch: 47/100 training loss: 0.107  training acc: 0.969 \n",
      "epoch: 48/100 training loss: 0.105  training acc: 0.968 \n",
      "epoch: 49/100 training loss: 0.124  training acc: 0.966 \n",
      "epoch: 50/100 training loss: 0.074  training acc: 0.975 \n",
      "epoch: 51/100 training loss: 0.095  training acc: 0.972 \n",
      "epoch: 52/100 training loss: 0.102  training acc: 0.970 \n",
      "epoch: 53/100 training loss: 0.111  training acc: 0.966 \n",
      "epoch: 54/100 training loss: 0.123  training acc: 0.965 \n",
      "epoch: 55/100 training loss: 0.106  training acc: 0.973 \n",
      "epoch: 56/100 training loss: 0.064  training acc: 0.980 \n",
      "epoch: 57/100 training loss: 0.049  training acc: 0.986 \n",
      "epoch: 58/100 training loss: 0.049  training acc: 0.985 \n",
      "epoch: 59/100 training loss: 0.047  training acc: 0.984 \n",
      "epoch: 60/100 training loss: 0.144  training acc: 0.962 \n",
      "epoch: 61/100 training loss: 0.100  training acc: 0.972 \n",
      "epoch: 62/100 training loss: 0.056  training acc: 0.983 \n",
      "epoch: 63/100 training loss: 0.048  training acc: 0.984 \n",
      "epoch: 64/100 training loss: 0.114  training acc: 0.969 \n",
      "epoch: 65/100 training loss: 0.150  training acc: 0.956 \n",
      "epoch: 66/100 training loss: 0.095  training acc: 0.975 \n",
      "epoch: 67/100 training loss: 0.087  training acc: 0.974 \n",
      "epoch: 68/100 training loss: 0.065  training acc: 0.981 \n",
      "epoch: 69/100 training loss: 0.059  training acc: 0.982 \n",
      "epoch: 70/100 training loss: 0.098  training acc: 0.972 \n",
      "epoch: 71/100 training loss: 0.084  training acc: 0.975 \n",
      "epoch: 72/100 training loss: 0.043  training acc: 0.988 \n",
      "epoch: 73/100 training loss: 0.091  training acc: 0.973 \n",
      "epoch: 74/100 training loss: 0.064  training acc: 0.980 \n",
      "epoch: 75/100 training loss: 0.044  training acc: 0.986 \n",
      "epoch: 76/100 training loss: 0.042  training acc: 0.987 \n",
      "epoch: 77/100 training loss: 0.160  training acc: 0.958 \n",
      "epoch: 78/100 training loss: 0.098  training acc: 0.971 \n",
      "epoch: 79/100 training loss: 0.083  training acc: 0.979 \n",
      "epoch: 80/100 training loss: 0.105  training acc: 0.970 \n",
      "epoch: 81/100 training loss: 0.091  training acc: 0.973 \n",
      "epoch: 82/100 training loss: 0.067  training acc: 0.981 \n",
      "epoch: 83/100 training loss: 0.042  training acc: 0.987 \n",
      "epoch: 84/100 training loss: 0.063  training acc: 0.982 \n",
      "epoch: 85/100 training loss: 0.068  training acc: 0.982 \n",
      "epoch: 86/100 training loss: 0.058  training acc: 0.985 \n",
      "epoch: 87/100 training loss: 0.060  training acc: 0.983 \n",
      "epoch: 88/100 training loss: 0.064  training acc: 0.982 \n",
      "epoch: 89/100 training loss: 0.057  training acc: 0.983 \n",
      "epoch: 90/100 training loss: 0.075  training acc: 0.980 \n",
      "epoch: 91/100 training loss: 0.122  training acc: 0.971 \n",
      "epoch: 92/100 training loss: 0.069  training acc: 0.980 \n",
      "epoch: 93/100 training loss: 0.036  training acc: 0.989 \n",
      "epoch: 94/100 training loss: 0.027  training acc: 0.992 \n",
      "epoch: 95/100 training loss: 0.108  training acc: 0.971 \n",
      "epoch: 96/100 training loss: 0.098  training acc: 0.973 \n",
      "epoch: 97/100 training loss: 0.073  training acc: 0.980 \n",
      "epoch: 98/100 training loss: 0.107  training acc: 0.970 \n",
      "epoch: 99/100 training loss: 0.078  training acc: 0.978 \n",
      "epoch: 100/100 training loss: 0.065  training acc: 0.981 \n"
     ]
    }
   ],
   "source": [
    "test_dataset.targets[:7000] = noisy_preds\n",
    "\n",
    "student_train = Subset(test_dataset, list(range(7000)))\n",
    "student_trainloader = torch.utils.data.DataLoader(student_train, batch_size=64, num_workers=0)\n",
    "\n",
    "model_2 = Net()\n",
    "criterion = nn.CrossEntropyLoss()\n",
    "optimizer = optim.Adam(model_2.parameters(), lr=0.001)\n",
    "model_2.to(device)\n",
    "epochs = 100\n",
    "\n",
    "train_losses, train_accs = [], []\n",
    "for e in range(epochs): \n",
    "    train_loss = 0   \n",
    "    train_acc = 0\n",
    "    for images, labels in student_trainloader:          \n",
    "        images, labels = images.to(device), labels.to(device)\n",
    "        \n",
    "        optimizer.zero_grad()   \n",
    "        output = model_2(images)        \n",
    "        loss = criterion(output, labels)        \n",
    "        loss.backward()       \n",
    "        optimizer.step()        \n",
    "        train_loss += loss.item()\n",
    "        \n",
    "        pred = torch.exp(output)\n",
    "        top_p, top_class = pred.topk(1, dim=1)        \n",
    "        equals = top_class == labels.view(*top_class.shape)\n",
    "        train_acc += torch.mean(equals.type(torch.FloatTensor))\n",
    "    \n",
    "    train_losses.append(train_loss / len(student_trainloader))\n",
    "    train_accs.append(train_acc.item() / len(student_trainloader))\n",
    "    \n",
    "    print('epoch: {}/{}'.format(e+1, epochs),\n",
    "          'training loss: {:.3f} '.format(train_loss / len(student_trainloader)),\n",
    "          'training acc: {:.3f} '.format(train_acc / len(student_trainloader)),\n",
    "        ) "
   ]
  },
  {
   "cell_type": "code",
   "execution_count": 22,
   "id": "5ddd25d5",
   "metadata": {},
   "outputs": [
    {
     "data": {
      "image/png": "[encoded data removed]",
      "text/plain": [
       "<Figure size 432x288 with 1 Axes>"
      ]
     },
     "metadata": {
      "needs_background": "light"
     },
     "output_type": "display_data"
    },
    {
     "data": {
      "image/png": "[encoded data removed]",
      "text/plain": [
       "<Figure size 432x288 with 1 Axes>"
      ]
     },
     "metadata": {
      "needs_background": "light"
     },
     "output_type": "display_data"
    }
   ],
   "source": [
    "# summarize history for accuracy\n",
    "import matplotlib.pyplot as plt\n",
    "epochs = range(1, 100+1)\n",
    "plt.plot(epochs, train_losses)\n",
    "plt.title('Training Loss')\n",
    "plt.ylabel('Loss')\n",
    "plt.xlabel('Epoch')\n",
    "plt.show()\n",
    "\n",
    "plt.plot(epochs, train_accs, color='orange')\n",
    "plt.title('Training Accuracy')\n",
    "plt.ylabel('Accuracy')\n",
    "plt.xlabel('Epoch')\n",
    "plt.show()"
   ]
  },
  {
   "cell_type": "code",
   "execution_count": 23,
   "id": "e0e46f42",
   "metadata": {},
   "outputs": [
    {
     "name": "stdout",
     "output_type": "stream",
     "text": [
      "test loss: 9.13088    test accuracy: 0.48034\n"
     ]
    }
   ],
   "source": [
    "test_loss = 0\n",
    "test_acc = 0\n",
    "\n",
    "model_2.to(device)\n",
    "model_2.eval()\n",
    "\n",
    "with torch.no_grad(): \n",
    "    for images, labels in student_test_loader:              \n",
    "        images, labels = images.to(device), labels.to(device)\n",
    "        output = model_2(images)\n",
    "        test_loss += criterion(output, labels).item()  \n",
    "               \n",
    "        # Calculate test accuracy\n",
    "        ps = torch.exp(output)\n",
    "        top_p, top_class = ps.topk(1, dim=1)        \n",
    "        equals = top_class == labels.view(*top_class.shape)\n",
    "        test_acc += torch.mean(equals.type(torch.FloatTensor))\n",
    "        \n",
    "        \n",
    "        \n",
    "print(\"test loss: {:.5f}   \".format(test_loss/len(student_test_loader)),\n",
    "      \"test accuracy: {:.5f}\".format(test_acc/len(student_test_loader)))"
   ]
  }
 ],
 "metadata": {
  "kernelspec": {
   "display_name": "Python 3",
   "language": "python",
   "name": "python3"
  },
  "language_info": {
   "codemirror_mode": {
    "name": "ipython",
    "version": 3
   },
   "file_extension": ".py",
   "mimetype": "text/x-python",
   "name": "python",
   "nbconvert_exporter": "python",
   "pygments_lexer": "ipython3",
   "version": "3.10.5"
  }
 },
 "nbformat": 4,
 "nbformat_minor": 5
}
